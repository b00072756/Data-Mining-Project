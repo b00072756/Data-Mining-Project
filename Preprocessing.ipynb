{
 "cells": [
  {
   "cell_type": "markdown",
   "id": "8f54046f-e646-4d33-a736-0bdf63b6ba22",
   "metadata": {},
   "source": [
    "<div style=\"text-align: center;\"> Data Mining - </div> "
   ]
  },
  {
   "cell_type": "markdown",
   "id": "36bd0f59-3a57-4ef0-9cb1-f473101fbe68",
   "metadata": {},
   "source": [
    "<div style=\"text-align: center;\"> By: The Threelancers</div>"
   ]
  },
  {
   "cell_type": "markdown",
   "id": "523c2ec7-3cc0-4b39-b5b9-4b88783d7a73",
   "metadata": {},
   "source": [
    "<div style=\"text-align: center;\" ><a href=\"https://www.aus.edu/\"><img src=\"https://i.imgur.com/pdZvnSD.png\" width=200> </a></div>"
   ]
  },
  {
   "cell_type": "markdown",
   "id": "a87d139f-f7b3-4970-8161-64d7162271f6",
   "metadata": {},
   "source": [
    "# Data Exploration & Library Imports"
   ]
  },
  {
   "cell_type": "code",
   "execution_count": 1,
   "id": "c6b30624-de3a-4da0-9b14-5a2cc0c415f8",
   "metadata": {},
   "outputs": [],
   "source": [
    "import pandas as pd\n",
    "import numpy as np\n",
    "import matplotlib.pyplot as plt\n",
    "import seaborn as sns\n",
    "from sklearn.preprocessing import StandardScaler, Binarizer, OneHotEncoder, OrdinalEncoder\n",
    "from scipy.stats import pearsonr, spearmanr, chi2_contingency, pointbiserialr, f_oneway\n",
    "from sklearn.impute import SimpleImputer\n",
    "import pandas as pd\n",
    "from scipy.stats import pearsonr, spearmanr, chi2_contingency, pointbiserialr, f_oneway\n"
   ]
  },
  {
   "cell_type": "markdown",
   "id": "6e5b4761-e23d-4f67-882d-4bc32cc9c44d",
   "metadata": {},
   "source": [
    "### Loading the CSV file"
   ]
  },
  {
   "cell_type": "code",
   "execution_count": 4,
   "id": "f1555f88-6db8-4ef2-af3b-cb58338e36fb",
   "metadata": {},
   "outputs": [],
   "source": [
    "freeLancerData = pd.read_csv('Dataset/Final_Upwork_Dataset.csv')"
   ]
  },
  {
   "cell_type": "markdown",
   "id": "94471e10-f2a7-46dd-bacb-4bb144488d80",
   "metadata": {
    "jp-MarkdownHeadingCollapsed": true
   },
   "source": [
    "### Display a few samples of the Free Lancer dataset"
   ]
  },
  {
   "cell_type": "code",
   "execution_count": 5,
   "id": "03c61618-7039-4463-8019-6292da8f6003",
   "metadata": {},
   "outputs": [
    {
     "data": {
      "text/html": [
       "<div>\n",
       "<style scoped>\n",
       "    .dataframe tbody tr th:only-of-type {\n",
       "        vertical-align: middle;\n",
       "    }\n",
       "\n",
       "    .dataframe tbody tr th {\n",
       "        vertical-align: top;\n",
       "    }\n",
       "\n",
       "    .dataframe thead th {\n",
       "        text-align: right;\n",
       "    }\n",
       "</style>\n",
       "<table border=\"1\" class=\"dataframe\">\n",
       "  <thead>\n",
       "    <tr style=\"text-align: right;\">\n",
       "      <th></th>\n",
       "      <th>Job Title</th>\n",
       "      <th>Job_URL</th>\n",
       "      <th>EX_level_demand</th>\n",
       "      <th>Time_Limitation</th>\n",
       "      <th>Search_Keyword</th>\n",
       "      <th>Posted_from</th>\n",
       "      <th>Description</th>\n",
       "      <th>Category1_URL_search</th>\n",
       "      <th>Category_1</th>\n",
       "      <th>highlight</th>\n",
       "      <th>...</th>\n",
       "      <th>Client_Country</th>\n",
       "      <th>Connects_Num</th>\n",
       "      <th>New_Connects_Num</th>\n",
       "      <th>Rating</th>\n",
       "      <th>Feedback_Num</th>\n",
       "      <th>Payment_type</th>\n",
       "      <th>Job_Cost</th>\n",
       "      <th>Hourly_Rate</th>\n",
       "      <th>Start_rate</th>\n",
       "      <th>End_rate</th>\n",
       "    </tr>\n",
       "  </thead>\n",
       "  <tbody>\n",
       "    <tr>\n",
       "      <th>0</th>\n",
       "      <td>Power bi specialist freelance</td>\n",
       "      <td>https://www.upwork.com/jobs/Power-specialist-f...</td>\n",
       "      <td>Expert</td>\n",
       "      <td>NaN</td>\n",
       "      <td>Data_science</td>\n",
       "      <td>5 minutes ago</td>\n",
       "      <td>Already data pooled and designed. Need to refi...</td>\n",
       "      <td>https://www.upwork.com/nx/jobs/search/?ontolog...</td>\n",
       "      <td>Data Analysis</td>\n",
       "      <td>data</td>\n",
       "      <td>...</td>\n",
       "      <td>United States</td>\n",
       "      <td>6.0</td>\n",
       "      <td>12.0</td>\n",
       "      <td>NaN</td>\n",
       "      <td>0.0</td>\n",
       "      <td>Fixed-price</td>\n",
       "      <td>$2,500</td>\n",
       "      <td>NaN</td>\n",
       "      <td>0</td>\n",
       "      <td>NaN</td>\n",
       "    </tr>\n",
       "    <tr>\n",
       "      <th>1</th>\n",
       "      <td>Case Study (on-demand delivery startup)</td>\n",
       "      <td>https://www.upwork.com/jobs/Case-Study-demand-...</td>\n",
       "      <td>Intermediate</td>\n",
       "      <td>NaN</td>\n",
       "      <td>Data_science</td>\n",
       "      <td>5 minutes ago</td>\n",
       "      <td>Hi,\\n\\nWould you be able to help me do a case-...</td>\n",
       "      <td>https://www.upwork.com/nx/jobs/search/?ontolog...</td>\n",
       "      <td>Google Data Studio</td>\n",
       "      <td>Google Data Studio</td>\n",
       "      <td>...</td>\n",
       "      <td>Canada</td>\n",
       "      <td>4.0</td>\n",
       "      <td>8.0</td>\n",
       "      <td>5.000000</td>\n",
       "      <td>1.0</td>\n",
       "      <td>Fixed-price</td>\n",
       "      <td>$200</td>\n",
       "      <td>NaN</td>\n",
       "      <td>0</td>\n",
       "      <td>NaN</td>\n",
       "    </tr>\n",
       "    <tr>\n",
       "      <th>2</th>\n",
       "      <td>File Maker Pro Reports, Charts, Query and Ongo...</td>\n",
       "      <td>https://www.upwork.com/jobs/File-Maker-Pro-Rep...</td>\n",
       "      <td>Intermediate</td>\n",
       "      <td>3 to 6 months, Less than 30 hrs/week</td>\n",
       "      <td>Data_science</td>\n",
       "      <td>9 minutes ago</td>\n",
       "      <td>NITIAL PROJECT\\n\\nSet up Monthly Report mimick...</td>\n",
       "      <td>https://www.upwork.com/nx/jobs/search/?ontolog...</td>\n",
       "      <td>Report Writing</td>\n",
       "      <td>NaN</td>\n",
       "      <td>...</td>\n",
       "      <td>United States</td>\n",
       "      <td>6.0</td>\n",
       "      <td>12.0</td>\n",
       "      <td>5.000000</td>\n",
       "      <td>1.0</td>\n",
       "      <td>Hourly</td>\n",
       "      <td>NaN</td>\n",
       "      <td>$40.00</td>\n",
       "      <td>40</td>\n",
       "      <td>NaN</td>\n",
       "    </tr>\n",
       "    <tr>\n",
       "      <th>3</th>\n",
       "      <td>Implementation of EleutherAI/gpt-neox-20b</td>\n",
       "      <td>https://www.upwork.com/jobs/Implementation-Ele...</td>\n",
       "      <td>Expert</td>\n",
       "      <td>3 to 6 months, Less than 30 hrs/week</td>\n",
       "      <td>Data_science</td>\n",
       "      <td>12 minutes ago</td>\n",
       "      <td>As a first step, you will implement the instal...</td>\n",
       "      <td>https://www.upwork.com/nx/jobs/search/?ontolog...</td>\n",
       "      <td>Machine Learning Model</td>\n",
       "      <td>NaN</td>\n",
       "      <td>...</td>\n",
       "      <td>Canada</td>\n",
       "      <td>6.0</td>\n",
       "      <td>12.0</td>\n",
       "      <td>4.935536</td>\n",
       "      <td>26.0</td>\n",
       "      <td>Hourly</td>\n",
       "      <td>NaN</td>\n",
       "      <td>$35.00-$100.00</td>\n",
       "      <td>$35.00</td>\n",
       "      <td>$100.00</td>\n",
       "    </tr>\n",
       "    <tr>\n",
       "      <th>4</th>\n",
       "      <td>BI and Data Engineer for Upwork Finance System...</td>\n",
       "      <td>https://www.upwork.com/jobs/and-span-Data-span...</td>\n",
       "      <td>Expert</td>\n",
       "      <td>More than 6 months, 30+ hrs/week</td>\n",
       "      <td>Data_science</td>\n",
       "      <td>14 minutes ago</td>\n",
       "      <td>The Upwork Finance Systems team is looking for...</td>\n",
       "      <td>https://www.upwork.com/nx/jobs/search/?ontolog...</td>\n",
       "      <td>Data Analysis</td>\n",
       "      <td>Data</td>\n",
       "      <td>...</td>\n",
       "      <td>United States</td>\n",
       "      <td>6.0</td>\n",
       "      <td>12.0</td>\n",
       "      <td>4.942242</td>\n",
       "      <td>12512.0</td>\n",
       "      <td>Hourly</td>\n",
       "      <td>NaN</td>\n",
       "      <td>NaN</td>\n",
       "      <td>0</td>\n",
       "      <td>NaN</td>\n",
       "    </tr>\n",
       "  </tbody>\n",
       "</table>\n",
       "<p>5 rows × 41 columns</p>\n",
       "</div>"
      ],
      "text/plain": [
       "                                           Job Title  \\\n",
       "0                      Power bi specialist freelance   \n",
       "1            Case Study (on-demand delivery startup)   \n",
       "2  File Maker Pro Reports, Charts, Query and Ongo...   \n",
       "3          Implementation of EleutherAI/gpt-neox-20b   \n",
       "4  BI and Data Engineer for Upwork Finance System...   \n",
       "\n",
       "                                             Job_URL EX_level_demand  \\\n",
       "0  https://www.upwork.com/jobs/Power-specialist-f...          Expert   \n",
       "1  https://www.upwork.com/jobs/Case-Study-demand-...    Intermediate   \n",
       "2  https://www.upwork.com/jobs/File-Maker-Pro-Rep...    Intermediate   \n",
       "3  https://www.upwork.com/jobs/Implementation-Ele...          Expert   \n",
       "4  https://www.upwork.com/jobs/and-span-Data-span...          Expert   \n",
       "\n",
       "                        Time_Limitation Search_Keyword     Posted_from  \\\n",
       "0                                   NaN   Data_science   5 minutes ago   \n",
       "1                                   NaN   Data_science   5 minutes ago   \n",
       "2  3 to 6 months, Less than 30 hrs/week   Data_science   9 minutes ago   \n",
       "3  3 to 6 months, Less than 30 hrs/week   Data_science  12 minutes ago   \n",
       "4      More than 6 months, 30+ hrs/week   Data_science  14 minutes ago   \n",
       "\n",
       "                                         Description  \\\n",
       "0  Already data pooled and designed. Need to refi...   \n",
       "1  Hi,\\n\\nWould you be able to help me do a case-...   \n",
       "2  NITIAL PROJECT\\n\\nSet up Monthly Report mimick...   \n",
       "3  As a first step, you will implement the instal...   \n",
       "4  The Upwork Finance Systems team is looking for...   \n",
       "\n",
       "                                Category1_URL_search              Category_1  \\\n",
       "0  https://www.upwork.com/nx/jobs/search/?ontolog...           Data Analysis   \n",
       "1  https://www.upwork.com/nx/jobs/search/?ontolog...      Google Data Studio   \n",
       "2  https://www.upwork.com/nx/jobs/search/?ontolog...          Report Writing   \n",
       "3  https://www.upwork.com/nx/jobs/search/?ontolog...  Machine Learning Model   \n",
       "4  https://www.upwork.com/nx/jobs/search/?ontolog...           Data Analysis   \n",
       "\n",
       "            highlight  ... Client_Country Connects_Num New_Connects_Num  \\\n",
       "0                data  ...  United States          6.0             12.0   \n",
       "1  Google Data Studio  ...         Canada          4.0              8.0   \n",
       "2                 NaN  ...  United States          6.0             12.0   \n",
       "3                 NaN  ...         Canada          6.0             12.0   \n",
       "4                Data  ...  United States          6.0             12.0   \n",
       "\n",
       "     Rating Feedback_Num Payment_type Job_Cost     Hourly_Rate Start_rate  \\\n",
       "0       NaN          0.0  Fixed-price  $2,500              NaN          0   \n",
       "1  5.000000          1.0  Fixed-price    $200              NaN          0   \n",
       "2  5.000000          1.0       Hourly      NaN         $40.00          40   \n",
       "3  4.935536         26.0       Hourly      NaN  $35.00-$100.00    $35.00    \n",
       "4  4.942242      12512.0       Hourly      NaN             NaN          0   \n",
       "\n",
       "   End_rate  \n",
       "0       NaN  \n",
       "1       NaN  \n",
       "2       NaN  \n",
       "3  $100.00   \n",
       "4       NaN  \n",
       "\n",
       "[5 rows x 41 columns]"
      ]
     },
     "execution_count": 5,
     "metadata": {},
     "output_type": "execute_result"
    }
   ],
   "source": [
    "freeLancerData.head()"
   ]
  },
  {
   "cell_type": "markdown",
   "id": "835e5569-f9fa-42db-8954-0d25c3cbbf2e",
   "metadata": {
    "jp-MarkdownHeadingCollapsed": true
   },
   "source": [
    "### Display the number of Features & Samples"
   ]
  },
  {
   "cell_type": "code",
   "execution_count": 6,
   "id": "c0cf163f-9b1f-4254-9454-18a4ea42847b",
   "metadata": {},
   "outputs": [
    {
     "data": {
      "text/plain": [
       "(63950, 41)"
      ]
     },
     "execution_count": 6,
     "metadata": {},
     "output_type": "execute_result"
    }
   ],
   "source": [
    "freeLancerData.shape"
   ]
  },
  {
   "cell_type": "markdown",
   "id": "a06fdd5a-fa3b-4181-a693-a2ced69395e8",
   "metadata": {
    "jp-MarkdownHeadingCollapsed": true
   },
   "source": [
    "### Datatypes of the Freelancer Dataset "
   ]
  },
  {
   "cell_type": "code",
   "execution_count": 7,
   "id": "d5ae108b-3c08-49a9-9d67-8e775d2af7a1",
   "metadata": {},
   "outputs": [
    {
     "name": "stdout",
     "output_type": "stream",
     "text": [
      "Job Title                object\n",
      "Job_URL                  object\n",
      "EX_level_demand          object\n",
      "Time_Limitation          object\n",
      "Search_Keyword           object\n",
      "Posted_from              object\n",
      "Description              object\n",
      "Category1_URL_search     object\n",
      "Category_1               object\n",
      "highlight                object\n",
      "Category2_URL_search     object\n",
      "Category_2               object\n",
      "Category3_URL_search     object\n",
      "Category_3               object\n",
      "Category4_URL_search     object\n",
      "Category_4               object\n",
      "Category5_URL_search     object\n",
      "Category_5               object\n",
      "Category6_URL_search     object\n",
      "Category_6               object\n",
      "Category7_URL_search     object\n",
      "Category_7               object\n",
      "Category8_URL_search     object\n",
      "Category_8               object\n",
      "Category9_URL_search     object\n",
      "Category_9               object\n",
      "Applicants_Num           object\n",
      "Payment_Situation        object\n",
      "Enterprise_Client        object\n",
      "Freelancers_Num           int64\n",
      "Spent($)                float64\n",
      "Client_Country           object\n",
      "Connects_Num            float64\n",
      "New_Connects_Num        float64\n",
      "Rating                  float64\n",
      "Feedback_Num            float64\n",
      "Payment_type             object\n",
      "Job_Cost                 object\n",
      "Hourly_Rate              object\n",
      "Start_rate               object\n",
      "End_rate                 object\n",
      "dtype: object\n"
     ]
    }
   ],
   "source": [
    "print(freeLancerData.dtypes)"
   ]
  },
  {
   "cell_type": "markdown",
   "id": "0f8a1504-3ba1-4bdd-b46f-38600038ea97",
   "metadata": {},
   "source": [
    "### Statistics of the Free Lancer Dataset"
   ]
  },
  {
   "cell_type": "code",
   "execution_count": 8,
   "id": "3a44eddf-e0ae-4cc8-a569-6f763e6496ad",
   "metadata": {},
   "outputs": [
    {
     "data": {
      "text/html": [
       "<div>\n",
       "<style scoped>\n",
       "    .dataframe tbody tr th:only-of-type {\n",
       "        vertical-align: middle;\n",
       "    }\n",
       "\n",
       "    .dataframe tbody tr th {\n",
       "        vertical-align: top;\n",
       "    }\n",
       "\n",
       "    .dataframe thead th {\n",
       "        text-align: right;\n",
       "    }\n",
       "</style>\n",
       "<table border=\"1\" class=\"dataframe\">\n",
       "  <thead>\n",
       "    <tr style=\"text-align: right;\">\n",
       "      <th></th>\n",
       "      <th>Freelancers_Num</th>\n",
       "      <th>Spent($)</th>\n",
       "      <th>Connects_Num</th>\n",
       "      <th>New_Connects_Num</th>\n",
       "      <th>Rating</th>\n",
       "      <th>Feedback_Num</th>\n",
       "    </tr>\n",
       "  </thead>\n",
       "  <tbody>\n",
       "    <tr>\n",
       "      <th>count</th>\n",
       "      <td>63950.000000</td>\n",
       "      <td>6.230400e+04</td>\n",
       "      <td>63949.000000</td>\n",
       "      <td>63949.000000</td>\n",
       "      <td>30593.000000</td>\n",
       "      <td>63949.000000</td>\n",
       "    </tr>\n",
       "    <tr>\n",
       "      <th>mean</th>\n",
       "      <td>1.137654</td>\n",
       "      <td>2.999789e+04</td>\n",
       "      <td>4.506701</td>\n",
       "      <td>9.013401</td>\n",
       "      <td>4.823875</td>\n",
       "      <td>20.997029</td>\n",
       "    </tr>\n",
       "    <tr>\n",
       "      <th>std</th>\n",
       "      <td>2.391479</td>\n",
       "      <td>3.926514e+05</td>\n",
       "      <td>2.097518</td>\n",
       "      <td>4.195035</td>\n",
       "      <td>0.418398</td>\n",
       "      <td>180.450288</td>\n",
       "    </tr>\n",
       "    <tr>\n",
       "      <th>min</th>\n",
       "      <td>0.000000</td>\n",
       "      <td>0.000000e+00</td>\n",
       "      <td>1.000000</td>\n",
       "      <td>2.000000</td>\n",
       "      <td>1.000000</td>\n",
       "      <td>0.000000</td>\n",
       "    </tr>\n",
       "    <tr>\n",
       "      <th>25%</th>\n",
       "      <td>1.000000</td>\n",
       "      <td>0.000000e+00</td>\n",
       "      <td>2.000000</td>\n",
       "      <td>4.000000</td>\n",
       "      <td>4.842153</td>\n",
       "      <td>0.000000</td>\n",
       "    </tr>\n",
       "    <tr>\n",
       "      <th>50%</th>\n",
       "      <td>1.000000</td>\n",
       "      <td>8.000000e+01</td>\n",
       "      <td>4.000000</td>\n",
       "      <td>8.000000</td>\n",
       "      <td>4.975717</td>\n",
       "      <td>0.000000</td>\n",
       "    </tr>\n",
       "    <tr>\n",
       "      <th>75%</th>\n",
       "      <td>1.000000</td>\n",
       "      <td>4.000000e+03</td>\n",
       "      <td>6.000000</td>\n",
       "      <td>12.000000</td>\n",
       "      <td>5.000000</td>\n",
       "      <td>10.000000</td>\n",
       "    </tr>\n",
       "    <tr>\n",
       "      <th>max</th>\n",
       "      <td>99.000000</td>\n",
       "      <td>7.000000e+07</td>\n",
       "      <td>8.000000</td>\n",
       "      <td>16.000000</td>\n",
       "      <td>5.000000</td>\n",
       "      <td>12541.000000</td>\n",
       "    </tr>\n",
       "  </tbody>\n",
       "</table>\n",
       "</div>"
      ],
      "text/plain": [
       "       Freelancers_Num      Spent($)  Connects_Num  New_Connects_Num  \\\n",
       "count     63950.000000  6.230400e+04  63949.000000      63949.000000   \n",
       "mean          1.137654  2.999789e+04      4.506701          9.013401   \n",
       "std           2.391479  3.926514e+05      2.097518          4.195035   \n",
       "min           0.000000  0.000000e+00      1.000000          2.000000   \n",
       "25%           1.000000  0.000000e+00      2.000000          4.000000   \n",
       "50%           1.000000  8.000000e+01      4.000000          8.000000   \n",
       "75%           1.000000  4.000000e+03      6.000000         12.000000   \n",
       "max          99.000000  7.000000e+07      8.000000         16.000000   \n",
       "\n",
       "             Rating  Feedback_Num  \n",
       "count  30593.000000  63949.000000  \n",
       "mean       4.823875     20.997029  \n",
       "std        0.418398    180.450288  \n",
       "min        1.000000      0.000000  \n",
       "25%        4.842153      0.000000  \n",
       "50%        4.975717      0.000000  \n",
       "75%        5.000000     10.000000  \n",
       "max        5.000000  12541.000000  "
      ]
     },
     "execution_count": 8,
     "metadata": {},
     "output_type": "execute_result"
    }
   ],
   "source": [
    "freeLancerData.describe()"
   ]
  },
  {
   "cell_type": "code",
   "execution_count": null,
   "id": "1ff50a91-4583-420b-85d1-d01693ab4011",
   "metadata": {},
   "outputs": [
    {
     "name": "stdout",
     "output_type": "stream",
     "text": [
      "Missing Values:\n",
      "Job Title                   2\n",
      "Job_URL                     1\n",
      "EX_level_demand          7015\n",
      "Time_Limitation         40916\n",
      "Search_Keyword              1\n",
      "Posted_from                37\n",
      "Description                 2\n",
      "Category1_URL_search      445\n",
      "Category_1                445\n",
      "highlight               13819\n",
      "Category2_URL_search     4061\n",
      "Category_2               4061\n",
      "Category3_URL_search     8953\n",
      "Category_3               8953\n",
      "Category4_URL_search    16407\n",
      "Category_4              16407\n",
      "Category5_URL_search    24372\n",
      "Category_5              24372\n",
      "Category6_URL_search    32643\n",
      "Category_6              32643\n",
      "Category7_URL_search    38758\n",
      "Category_7              38758\n",
      "Category8_URL_search    43514\n",
      "Category_8              43514\n",
      "Category9_URL_search    47469\n",
      "Category_9              47469\n",
      "Applicants_Num          63950\n",
      "Payment_Situation           1\n",
      "Enterprise_Client       63897\n",
      "Freelancers_Num             0\n",
      "Spent($)                 1646\n",
      "Client_Country            125\n",
      "Connects_Num                1\n",
      "New_Connects_Num            1\n",
      "Rating                  33357\n",
      "Feedback_Num                1\n",
      "Payment_type                1\n",
      "Job_Cost                63950\n",
      "Hourly_Rate             63950\n",
      "Start_rate              25964\n",
      "End_rate                63950\n",
      "dtype: int64\n"
     ]
    },
    {
     "name": "stderr",
     "output_type": "stream",
     "text": [
      "/var/folders/zt/c190v41j403gszjzbfzh1hdh0000gp/T/ipykernel_21837/342175470.py:62: ConstantInputWarning: An input array is constant; the correlation coefficient is not defined.\n",
      "  pearson_corr, _ = pearsonr(valid_data[col1], valid_data[col2])\n",
      "/var/folders/zt/c190v41j403gszjzbfzh1hdh0000gp/T/ipykernel_21837/342175470.py:63: ConstantInputWarning: An input array is constant; the correlation coefficient is not defined.\n",
      "  spearman_corr, _ = spearmanr(valid_data[col1], valid_data[col2])\n",
      "/var/folders/zt/c190v41j403gszjzbfzh1hdh0000gp/T/ipykernel_21837/342175470.py:86: SmallSampleWarning: One or more sample arguments is too small; all returned values will be NaN. See documentation for sample size requirements.\n",
      "  anova_stat, _ = f_oneway(*groups)\n"
     ]
    }
   ],
   "source": [
    "import pandas as pd\n",
    "from scipy.stats import pearsonr, spearmanr, chi2_contingency, pointbiserialr, f_oneway\n",
    "\n",
    "# Load your dataset\n",
    "\n",
    "# Step 1: Define attribute types and check for missing values\n",
    "data_types = {\n",
    "    \"Job Title\": \"Categorical (Nominal)\",\n",
    "    \"Job_URL\": \"Categorical (Nominal)\",\n",
    "    \"EX_level_demand\": \"Categorical (Ordinal)\",\n",
    "    \"Time_Limitation\": \"Categorical (Nominal)\",\n",
    "    \"Search_Keyword\": \"Categorical (Nominal)\",\n",
    "    \"Posted_from\": \"Categorical (Nominal)\",\n",
    "    \"Description\": \"Categorical (Nominal)\",\n",
    "    \"Category_1\": \"Categorical (Nominal)\",\n",
    "    \"highlight\": \"Categorical (Nominal)\",\n",
    "    \"Applicants_Num\": \"Numerical (Discrete, Ratio)\",\n",
    "    \"Payment_Situation\": \"Categorical (Nominal)\",\n",
    "    \"Enterprise_Client\": \"Categorical (Nominal)\",\n",
    "    \"Freelancers_Num\": \"Numerical (Discrete, Ratio)\",\n",
    "    \"Spent($)\": \"Numerical (Continuous, Ratio)\",\n",
    "    \"Client_Country\": \"Categorical (Nominal)\",\n",
    "    \"Connects_Num\": \"Numerical (Discrete, Ratio)\",\n",
    "    \"New_Connects_Num\": \"Numerical (Discrete, Ratio)\",\n",
    "    \"Rating\": \"Numerical (Continuous, Ratio)\",\n",
    "    \"Feedback_Num\": \"Numerical (Discrete, Ratio)\",\n",
    "    \"Payment_type\": \"Categorical (Nominal)\",\n",
    "    \"Job_Cost\": \"Numerical (Continuous, Ratio)\",\n",
    "    \"Hourly_Rate\": \"Numerical (Continuous, Ratio)\",\n",
    "    \"Start_rate\": \"Numerical (Continuous, Ratio)\",\n",
    "    \"End_rate\": \"Numerical (Continuous, Ratio)\"\n",
    "}\n",
    "\n",
    "# Convert columns identified as numerical to numeric data type, coercing errors to NaN\n",
    "for col in data_types:\n",
    "    if 'Numerical' in data_types[col]:\n",
    "        freeLancerData[col] = pd.to_numeric(freeLancerData[col], errors='coerce')\n",
    "\n",
    "# Check for missing values\n",
    "missing_values = freeLancerData.isnull().sum()\n",
    "print(\"Missing Values:\")\n",
    "print(missing_values)\n",
    "\n",
    "# Separate columns by type\n",
    "numerical_columns = [col for col, dtype in data_types.items() if 'Numerical' in dtype]\n",
    "categorical_columns = [col for col, dtype in data_types.items() if 'Categorical' in dtype]\n",
    "\n",
    "# Step 2: Calculate correlations between all features\n",
    "correlation_data = {\n",
    "    'Feature Pair': [],\n",
    "    'Correlation Method': [],\n",
    "    'Correlation Value': []\n",
    "}\n",
    "\n",
    "# Numerical vs Numerical (Pearson and Spearman)\n",
    "for i in range(len(numerical_columns)):\n",
    "    for j in range(i + 1, len(numerical_columns)):\n",
    "        col1, col2 = numerical_columns[i], numerical_columns[j]\n",
    "        # Drop any rows with NaN values in these two columns for correlation calculation\n",
    "        valid_data = freeLancerData[[col1, col2]].dropna()\n",
    "        if not valid_data.empty:\n",
    "            pearson_corr, _ = pearsonr(valid_data[col1], valid_data[col2])\n",
    "            spearman_corr, _ = spearmanr(valid_data[col1], valid_data[col2])\n",
    "\n",
    "            correlation_data['Feature Pair'].append(f\"{col1} vs {col2}\")\n",
    "            correlation_data['Correlation Method'].append(\"Pearson\")\n",
    "            correlation_data['Correlation Value'].append(pearson_corr)\n",
    "            \n",
    "            correlation_data['Feature Pair'].append(f\"{col1} vs {col2}\")\n",
    "            correlation_data['Correlation Method'].append(\"Spearman\")\n",
    "            correlation_data['Correlation Value'].append(spearman_corr)\n",
    "\n",
    "# Numerical vs Categorical (ANOVA and Point-Biserial)\n",
    "for num_col in numerical_columns:\n",
    "    for cat_col in categorical_columns:\n",
    "        if freeLancerData[cat_col].nunique() == 2:  # Point-Biserial\n",
    "            categories = freeLancerData[cat_col].dropna().unique()\n",
    "            mask = freeLancerData[cat_col] == categories[0]\n",
    "            point_biserial_corr, _ = pointbiserialr(mask.astype(int), freeLancerData[num_col].fillna(0))\n",
    "            correlation_data['Feature Pair'].append(f\"{num_col} vs {cat_col}\")\n",
    "            correlation_data['Correlation Method'].append(\"Point-Biserial\")\n",
    "            correlation_data['Correlation Value'].append(point_biserial_corr)\n",
    "        else:  # ANOVA\n",
    "            groups = [freeLancerData[num_col][freeLancerData[cat_col] == category].dropna() for category in freeLancerData[cat_col].unique()]\n",
    "            if len(groups) > 1:\n",
    "                anova_stat, _ = f_oneway(*groups)\n",
    "                correlation_data['Feature Pair'].append(f\"{num_col} vs {cat_col}\")\n",
    "                correlation_data['Correlation Method'].append(\"ANOVA\")\n",
    "                correlation_data['Correlation Value'].append(anova_stat)\n",
    "\n",
    "# Categorical vs Categorical (Chi-Square)\n",
    "for i in range(len(categorical_columns)):\n",
    "    for j in range(i + 1, len(categorical_columns)):\n",
    "        cat1, cat2 = categorical_columns[i], categorical_columns[j]\n",
    "        contingency_table = pd.crosstab(freeLancerData[cat1].fillna('Unknown'), freeLancerData[cat2].fillna('Unknown'))\n",
    "        chi2_stat, _, _, _ = chi2_contingency(contingency_table)\n",
    "        \n",
    "        correlation_data['Feature Pair'].append(f\"{cat1} vs {cat2}\")\n",
    "        correlation_data['Correlation Method'].append(\"Chi-Square\")\n",
    "        correlation_data['Correlation Value'].append(chi2_stat)\n",
    "\n",
    "# Convert to DataFrame and display\n",
    "correlation_df = pd.DataFrame(correlation_data)\n",
    "print(correlation_df)\n"
   ]
  },
  {
   "cell_type": "markdown",
   "id": "a47adf5e-13ba-424d-8e24-002c88340708",
   "metadata": {
    "jp-MarkdownHeadingCollapsed": true
   },
   "source": [
    "# Visualization of Attributes"
   ]
  },
  {
   "cell_type": "markdown",
   "id": "05f3b538-59c1-4c2e-88dd-1ad5b11aa9e8",
   "metadata": {},
   "source": [
    "## Visualizing Numerical Attributes - Histograms"
   ]
  },
  {
   "cell_type": "code",
   "execution_count": 2,
   "id": "d2209206-f5d2-4b85-a434-591facd273e6",
   "metadata": {},
   "outputs": [],
   "source": [
    "def visualize_numerical_feature(feature):\n",
    "    sns.histplot(freeLancerData[feature], kde=True)\n",
    "    plt.title(\"{} Distribution\".format(feature))\n",
    "    plt.show()\n",
    "\n",
    "    print(\n",
    "        'mean: ', freeLancerData[feature].mean(), \n",
    "        ', median: ', freeLancerData[feature].median(), \n",
    "        ', range: ', freeLancerData[feature].max() - freeLancerData[feature].min()\n",
    "    )"
   ]
  },
  {
   "cell_type": "markdown",
   "id": "a6170e66-170c-49a7-b97e-ecbf48d94676",
   "metadata": {
    "jp-MarkdownHeadingCollapsed": true
   },
   "source": [
    "### Age Histogram"
   ]
  },
  {
   "cell_type": "code",
   "execution_count": 10,
   "id": "c8ecb328-03ec-4d0e-bb74-ed06a14010ad",
   "metadata": {
    "scrolled": true
   },
   "outputs": [
    {
     "data": {
      "image/png": "[encoded data removed]",
      "text/plain": [
       "<Figure size 640x480 with 1 Axes>"
      ]
     },
     "metadata": {},
     "output_type": "display_data"
    },
    {
     "name": "stdout",
     "output_type": "stream",
     "text": [
      "mean:  40.924425508137176 , median:  39.0 , range:  77.0\n"
     ]
    }
   ],
   "source": [
    "visualize_numerical_feature('Age')"
   ]
  },
  {
   "cell_type": "markdown",
   "id": "196ad217-8440-4805-ad84-99b5b60c6e4b",
   "metadata": {
    "jp-MarkdownHeadingCollapsed": true
   },
   "source": [
    "### Balance Histogram"
   ]
  },
  {
   "cell_type": "code",
   "execution_count": 11,
   "id": "a8d5052a-48b6-462b-bf4c-225b5d08b6b3",
   "metadata": {},
   "outputs": [
    {
     "data": {
      "image/png": "[encoded data removed]",
      "text/plain": [
       "<Figure size 640x480 with 1 Axes>"
      ]
     },
     "metadata": {},
     "output_type": "display_data"
    },
    {
     "name": "stdout",
     "output_type": "stream",
     "text": [
      "mean:  1362.2720576850766 , median:  448.0 , range:  110146\n"
     ]
    }
   ],
   "source": [
    "visualize_numerical_feature('Balance')"
   ]
  },
  {
   "cell_type": "markdown",
   "id": "45464485-455d-44f3-a0c2-b297366ed380",
   "metadata": {
    "jp-MarkdownHeadingCollapsed": true
   },
   "source": [
    "### Pdays Histogram"
   ]
  },
  {
   "cell_type": "code",
   "execution_count": 12,
   "id": "a89e2536-b734-4b3f-ae51-4e93bd1ed2c9",
   "metadata": {},
   "outputs": [
    {
     "data": {
      "image/png": "[encoded data removed]",
      "text/plain": [
       "<Figure size 640x480 with 1 Axes>"
      ]
     },
     "metadata": {},
     "output_type": "display_data"
    },
    {
     "name": "stdout",
     "output_type": "stream",
     "text": [
      "mean:  40.19782796222158 , median:  -1.0 , range:  872\n"
     ]
    }
   ],
   "source": [
    "visualize_numerical_feature('Pdays')"
   ]
  },
  {
   "cell_type": "markdown",
   "id": "a01212bc-8b47-4d39-8d38-34c5dd369f14",
   "metadata": {},
   "source": [
    "## Visualizing Categorical Attributes - Bar Plots "
   ]
  },
  {
   "cell_type": "code",
   "execution_count": 1,
   "id": "d3a0d5ba-124e-4be8-9c2a-7fe2d770b282",
   "metadata": {},
   "outputs": [],
   "source": [
    "def visualize_categorical_feature(feature):\n",
    "    print(freeLancerData[feature].value_counts())\n",
    "\n",
    "    plt.figure(figsize=(6, 4))\n",
    "    sns.countplot(data=freeLancerData, x=feature)\n",
    "    plt.title(f\"Frequency of {feature}\")\n",
    "    plt.show()"
   ]
  },
  {
   "cell_type": "markdown",
   "id": "5a0e42a8-5da0-41e0-ac8d-85fa76fdc379",
   "metadata": {
    "jp-MarkdownHeadingCollapsed": true
   },
   "source": [
    "### Job Bar Plot"
   ]
  },
  {
   "cell_type": "code",
   "execution_count": 14,
   "id": "b0bf224c-a4d9-4a30-98b0-5ba7797180aa",
   "metadata": {},
   "outputs": [
    {
     "name": "stdout",
     "output_type": "stream",
     "text": [
      "Job\n",
      "blue-collar      9732\n",
      "management       9458\n",
      "technician       7597\n",
      "admin.           5171\n",
      "services         4154\n",
      "retired          2264\n",
      "self-employed    1579\n",
      "entrepreneur     1487\n",
      "housemaid        1240\n",
      "student           938\n",
      "Name: count, dtype: int64\n"
     ]
    },
    {
     "data": {
      "image/png": "[encoded data removed]",
      "text/plain": [
       "<Figure size 600x400 with 1 Axes>"
      ]
     },
     "metadata": {},
     "output_type": "display_data"
    }
   ],
   "source": [
    "visualize_categorical_feature('Job')"
   ]
  },
  {
   "cell_type": "markdown",
   "id": "226de675-1626-421a-9c30-a6abf3e9b43d",
   "metadata": {
    "jp-MarkdownHeadingCollapsed": true
   },
   "source": [
    "### Marital Bar Plot"
   ]
  },
  {
   "cell_type": "code",
   "execution_count": 15,
   "id": "a5d5da43-7a31-4afd-b8c8-8746bb6f7716",
   "metadata": {},
   "outputs": [
    {
     "name": "stdout",
     "output_type": "stream",
     "text": [
      "Marital\n",
      "married     27214\n",
      "single      12790\n",
      "divorced     5207\n",
      "Name: count, dtype: int64\n"
     ]
    },
    {
     "data": {
      "image/png": "[encoded data removed]",
      "text/plain": [
       "<Figure size 600x400 with 1 Axes>"
      ]
     },
     "metadata": {},
     "output_type": "display_data"
    }
   ],
   "source": [
    "visualize_categorical_feature('Marital')"
   ]
  },
  {
   "cell_type": "markdown",
   "id": "521204c5-3ed2-4c3c-ac3b-c5d499a84258",
   "metadata": {
    "jp-MarkdownHeadingCollapsed": true
   },
   "source": [
    "### Education Bar Plot"
   ]
  },
  {
   "cell_type": "code",
   "execution_count": 16,
   "id": "6be68b32-922d-4f10-9e87-758ef7851943",
   "metadata": {},
   "outputs": [
    {
     "name": "stdout",
     "output_type": "stream",
     "text": [
      "Education\n",
      "secondary    23202\n",
      "tertiary     13301\n",
      "primary       6851\n",
      "Name: count, dtype: int64\n"
     ]
    },
    {
     "data": {
      "image/png": "[encoded data removed]",
      "text/plain": [
       "<Figure size 600x400 with 1 Axes>"
      ]
     },
     "metadata": {},
     "output_type": "display_data"
    }
   ],
   "source": [
    "visualize_categorical_feature('Education')"
   ]
  },
  {
   "cell_type": "markdown",
   "id": "2c04f7f3-9248-484c-9529-fe7e7cff2e36",
   "metadata": {
    "jp-MarkdownHeadingCollapsed": true
   },
   "source": [
    "### Default Bar Plot"
   ]
  },
  {
   "cell_type": "code",
   "execution_count": 17,
   "id": "970359a0-3e6d-46f5-877e-4df7ff4f874f",
   "metadata": {},
   "outputs": [
    {
     "name": "stdout",
     "output_type": "stream",
     "text": [
      "Default\n",
      "no     43509\n",
      "yes      815\n",
      "Name: count, dtype: int64\n"
     ]
    },
    {
     "data": {
      "image/png": "[encoded data removed]",
      "text/plain": [
       "<Figure size 600x400 with 1 Axes>"
      ]
     },
     "metadata": {},
     "output_type": "display_data"
    }
   ],
   "source": [
    "visualize_categorical_feature('Default')"
   ]
  },
  {
   "cell_type": "markdown",
   "id": "2ada3c61-5420-48b5-ae16-8d61979f000f",
   "metadata": {
    "jp-MarkdownHeadingCollapsed": true
   },
   "source": [
    "### Housing Bar Plot"
   ]
  },
  {
   "cell_type": "code",
   "execution_count": 18,
   "id": "da2dbcba-9688-4acc-959c-05dc95c448f4",
   "metadata": {},
   "outputs": [
    {
     "name": "stdout",
     "output_type": "stream",
     "text": [
      "Housing\n",
      "yes    25130\n",
      "no     20081\n",
      "Name: count, dtype: int64\n"
     ]
    },
    {
     "data": {
      "image/png": "[encoded data removed]",
      "text/plain": [
       "<Figure size 600x400 with 1 Axes>"
      ]
     },
     "metadata": {},
     "output_type": "display_data"
    }
   ],
   "source": [
    "visualize_categorical_feature('Housing')"
   ]
  },
  {
   "cell_type": "markdown",
   "id": "d611c05b-21f5-40e4-b70a-8ebbd9830402",
   "metadata": {
    "jp-MarkdownHeadingCollapsed": true
   },
   "source": [
    "### Loan Bar Plot"
   ]
  },
  {
   "cell_type": "code",
   "execution_count": 19,
   "id": "7d56c42e-52d8-49be-8090-48d05d68918a",
   "metadata": {},
   "outputs": [
    {
     "name": "stdout",
     "output_type": "stream",
     "text": [
      "Loan\n",
      "no     37967\n",
      "yes     7244\n",
      "Name: count, dtype: int64\n"
     ]
    },
    {
     "data": {
      "image/png": "[encoded data removed]",
      "text/plain": [
       "<Figure size 600x400 with 1 Axes>"
      ]
     },
     "metadata": {},
     "output_type": "display_data"
    }
   ],
   "source": [
    "visualize_categorical_feature('Loan')"
   ]
  },
  {
   "cell_type": "markdown",
   "id": "cda12ee0-d82e-4a34-a324-fb00dfc6bbb3",
   "metadata": {
    "jp-MarkdownHeadingCollapsed": true
   },
   "source": [
    "### Contact Bar Plot"
   ]
  },
  {
   "cell_type": "code",
   "execution_count": 20,
   "id": "c721abe0-988d-4c53-918d-fcee2d3805da",
   "metadata": {},
   "outputs": [
    {
     "name": "stdout",
     "output_type": "stream",
     "text": [
      "Contact\n",
      "cellular     41285\n",
      "telephone     2906\n",
      "Name: count, dtype: int64\n"
     ]
    },
    {
     "data": {
      "image/png": "[encoded data removed]",
      "text/plain": [
       "<Figure size 600x400 with 1 Axes>"
      ]
     },
     "metadata": {},
     "output_type": "display_data"
    }
   ],
   "source": [
    "visualize_categorical_feature('Contact')"
   ]
  },
  {
   "cell_type": "markdown",
   "id": "36cd97f1-e04a-4e9c-a527-98359fd2ba10",
   "metadata": {
    "jp-MarkdownHeadingCollapsed": true
   },
   "source": [
    "### Poutcome Bar Plot"
   ]
  },
  {
   "cell_type": "code",
   "execution_count": 21,
   "id": "b29bb227-5f22-4574-ba81-8247cf7a28b2",
   "metadata": {},
   "outputs": [
    {
     "name": "stdout",
     "output_type": "stream",
     "text": [
      "Poutcome\n",
      "failure    4901\n",
      "other      1840\n",
      "success    1511\n",
      "Name: count, dtype: int64\n"
     ]
    },
    {
     "data": {
      "image/png": "[encoded data removed]",
      "text/plain": [
       "<Figure size 600x400 with 1 Axes>"
      ]
     },
     "metadata": {},
     "output_type": "display_data"
    }
   ],
   "source": [
    "visualize_categorical_feature('Poutcome')"
   ]
  },
  {
   "cell_type": "markdown",
   "id": "5d0a8863-d7c0-45db-a04a-ec5a660fa595",
   "metadata": {
    "jp-MarkdownHeadingCollapsed": true
   },
   "source": [
    "### Outcome Bar Plot"
   ]
  },
  {
   "cell_type": "code",
   "execution_count": 22,
   "id": "b116494c-192c-440c-ad5d-3e8d4ed4e412",
   "metadata": {},
   "outputs": [
    {
     "name": "stdout",
     "output_type": "stream",
     "text": [
      "Outcome\n",
      "no     39922\n",
      "yes     5289\n",
      "Name: count, dtype: int64\n"
     ]
    },
    {
     "data": {
      "image/png": "[encoded data removed]",
      "text/plain": [
       "<Figure size 600x400 with 1 Axes>"
      ]
     },
     "metadata": {},
     "output_type": "display_data"
    }
   ],
   "source": [
    "visualize_categorical_feature('Outcome')"
   ]
  },
  {
   "cell_type": "markdown",
   "id": "e6a91f82-f4d9-4ad2-8284-0ac115380bc8",
   "metadata": {},
   "source": [
    "Imputation of Missing Values"
   ]
  },
  {
   "cell_type": "markdown",
   "id": "cb7be3f9-1f2f-40ab-899b-2042c9c0295f",
   "metadata": {},
   "source": [
    "## Exploring Missing Data"
   ]
  },
  {
   "cell_type": "code",
   "execution_count": 9,
   "id": "4514805a-0b95-4d5d-b9c9-df2f333a884b",
   "metadata": {},
   "outputs": [
    {
     "name": "stdout",
     "output_type": "stream",
     "text": [
      "Job Title                   2\n",
      "Job_URL                     1\n",
      "EX_level_demand          7015\n",
      "Time_Limitation         40916\n",
      "Search_Keyword              1\n",
      "Posted_from                37\n",
      "Description                 2\n",
      "Category1_URL_search      445\n",
      "Category_1                445\n",
      "highlight               13819\n",
      "Category2_URL_search     4061\n",
      "Category_2               4061\n",
      "Category3_URL_search     8953\n",
      "Category_3               8953\n",
      "Category4_URL_search    16407\n",
      "Category_4              16407\n",
      "Category5_URL_search    24372\n",
      "Category_5              24372\n",
      "Category6_URL_search    32643\n",
      "Category_6              32643\n",
      "Category7_URL_search    38758\n",
      "Category_7              38758\n",
      "Category8_URL_search    43514\n",
      "Category_8              43514\n",
      "Category9_URL_search    47469\n",
      "Category_9              47469\n",
      "Applicants_Num              1\n",
      "Payment_Situation           1\n",
      "Enterprise_Client       63897\n",
      "Freelancers_Num             0\n",
      "Spent($)                 1646\n",
      "Client_Country            125\n",
      "Connects_Num                1\n",
      "New_Connects_Num            1\n",
      "Rating                  33357\n",
      "Feedback_Num                1\n",
      "Payment_type                1\n",
      "Job_Cost                43837\n",
      "Hourly_Rate             37380\n",
      "Start_rate                  1\n",
      "End_rate                37987\n",
      "dtype: int64\n"
     ]
    }
   ],
   "source": [
    "missing_data = freeLancerData.isnull().sum()\n",
    "\n",
    "print(missing_data)"
   ]
  },
  {
   "cell_type": "code",
   "execution_count": 10,
   "id": "9c49704a-c975-42d2-9063-1010cb5db90d",
   "metadata": {},
   "outputs": [
    {
     "name": "stdout",
     "output_type": "stream",
     "text": [
      "Job Title                0.003127\n",
      "Job_URL                  0.001564\n",
      "EX_level_demand         10.969507\n",
      "Time_Limitation         63.981235\n",
      "Search_Keyword           0.001564\n",
      "Posted_from              0.057858\n",
      "Description              0.003127\n",
      "Category1_URL_search     0.695856\n",
      "Category_1               0.695856\n",
      "highlight               21.609070\n",
      "Category2_URL_search     6.350274\n",
      "Category_2               6.350274\n",
      "Category3_URL_search    14.000000\n",
      "Category_3              14.000000\n",
      "Category4_URL_search    25.655981\n",
      "Category_4              25.655981\n",
      "Category5_URL_search    38.111024\n",
      "Category_5              38.111024\n",
      "Category6_URL_search    51.044566\n",
      "Category_6              51.044566\n",
      "Category7_URL_search    60.606724\n",
      "Category_7              60.606724\n",
      "Category8_URL_search    68.043784\n",
      "Category_8              68.043784\n",
      "Category9_URL_search    74.228303\n",
      "Category_9              74.228303\n",
      "Applicants_Num           0.001564\n",
      "Payment_Situation        0.001564\n",
      "Enterprise_Client       99.917123\n",
      "Freelancers_Num          0.000000\n",
      "Spent($)                 2.573886\n",
      "Client_Country           0.195465\n",
      "Connects_Num             0.001564\n",
      "New_Connects_Num         0.001564\n",
      "Rating                  52.161063\n",
      "Feedback_Num             0.001564\n",
      "Payment_type             0.001564\n",
      "Job_Cost                68.548866\n",
      "Hourly_Rate             58.451916\n",
      "Start_rate               0.001564\n",
      "End_rate                59.401095\n",
      "dtype: float64\n"
     ]
    }
   ],
   "source": [
    "# Display how much data is missing in % for each feature\n",
    "missing_percentage = (missing_data / len(freeLancerData)) * 100\n",
    "print(missing_percentage)"
   ]
  },
  {
   "cell_type": "markdown",
   "id": "afcbd47b-d410-4852-88c4-071f4d1365f3",
   "metadata": {
    "jp-MarkdownHeadingCollapsed": true
   },
   "source": [
    "## Imputing Numerical Attributes"
   ]
  },
  {
   "cell_type": "markdown",
   "id": "d8a48960-a0b6-4cc2-ab51-f047a8974a5a",
   "metadata": {
    "jp-MarkdownHeadingCollapsed": true
   },
   "source": [
    "### Imputing Age"
   ]
  },
  {
   "cell_type": "raw",
   "id": "5c1b9c94-65c6-406e-8b55-86945681513e",
   "metadata": {},
   "source": [
    "As per Q2, Age is skewed to the right. Therefore, Median is the better imputation strategy."
   ]
  },
  {
   "cell_type": "code",
   "execution_count": 3,
   "id": "1feea911-e061-46af-a965-c3e801283f0f",
   "metadata": {},
   "outputs": [
    {
     "name": "stdout",
     "output_type": "stream",
     "text": [
      "Missing values in 'Age': 2260\n"
     ]
    }
   ],
   "source": [
    "# Check for missing values in the 'Age' column\n",
    "missing_age = bankMarketing['Age'].isnull().sum()\n",
    "print(f\"Missing values in 'Age': {missing_age}\")"
   ]
  },
  {
   "cell_type": "code",
   "execution_count": 26,
   "id": "adcdd127-94e1-478f-a825-c18044533204",
   "metadata": {},
   "outputs": [
    {
     "data": {
      "image/png": "[encoded data removed]",
      "text/plain": [
       "<Figure size 640x480 with 1 Axes>"
      ]
     },
     "metadata": {},
     "output_type": "display_data"
    },
    {
     "name": "stdout",
     "output_type": "stream",
     "text": [
      "mean:  40.924425508137176 , median:  39.0 , range:  77.0\n"
     ]
    }
   ],
   "source": [
    "# Visualize the distribution of Age before Imputation\n",
    "visualize_numerical_feature('Age')"
   ]
  },
  {
   "cell_type": "code",
   "execution_count": 4,
   "id": "6eb101d1-0270-480c-9f1b-0a25867c8ab2",
   "metadata": {},
   "outputs": [],
   "source": [
    "# Impute missing Age values with the median\n",
    "imputer_median = SimpleImputer(strategy='median')\n",
    "bankMarketing['Age'] = imputer_median.fit_transform(bankMarketing[['Age']])"
   ]
  },
  {
   "cell_type": "code",
   "execution_count": 28,
   "id": "90e28767-4642-4b9f-b9a2-5ae465dabe83",
   "metadata": {},
   "outputs": [
    {
     "data": {
      "image/png": "[encoded data removed]",
      "text/plain": [
       "<Figure size 640x480 with 1 Axes>"
      ]
     },
     "metadata": {},
     "output_type": "display_data"
    },
    {
     "name": "stdout",
     "output_type": "stream",
     "text": [
      "mean:  40.828227643715024 , median:  39.0 , range:  77.0\n"
     ]
    }
   ],
   "source": [
    "#Visualize Age after Imputation \n",
    "visualize_numerical_feature('Age')"
   ]
  },
  {
   "cell_type": "code",
   "execution_count": 29,
   "id": "3682d3cb-d28e-4fca-b404-b18f8e8081d7",
   "metadata": {},
   "outputs": [
    {
     "name": "stdout",
     "output_type": "stream",
     "text": [
      "Missing values in 'Age': 0\n"
     ]
    }
   ],
   "source": [
    "# Check for missing values in the 'Age' column\n",
    "missing_age = bankMarketing['Age'].isnull().sum()\n",
    "print(f\"Missing values in 'Age': {missing_age}\")"
   ]
  },
  {
   "cell_type": "markdown",
   "id": "f87907ac-fd5b-4b9f-9911-b93f1644a6cc",
   "metadata": {
    "jp-MarkdownHeadingCollapsed": true
   },
   "source": [
    "### Imputing Balance & Pdays"
   ]
  },
  {
   "cell_type": "raw",
   "id": "dc171927-9ce6-446b-a491-74d24855c783",
   "metadata": {},
   "source": [
    "Balance and Pdays have no missing values. Imputation is not required."
   ]
  },
  {
   "cell_type": "markdown",
   "id": "f64c0aaf-9682-422d-b9e6-e544eeda7f93",
   "metadata": {
    "jp-MarkdownHeadingCollapsed": true
   },
   "source": [
    "## Imputing Categorical Attributes"
   ]
  },
  {
   "attachments": {},
   "cell_type": "markdown",
   "id": "7a3f6a04-dc3d-4165-a129-3f3d2ea91e13",
   "metadata": {
    "jp-MarkdownHeadingCollapsed": true
   },
   "source": [
    "### Nominal Attributes - Imputation"
   ]
  },
  {
   "cell_type": "raw",
   "id": "53be264c-de26-4acc-9887-995601f967c4",
   "metadata": {},
   "source": [
    "The missing values are not random. And since Job, Default, and Contact have 5,1.2 and 2 percent missing values. It is safer to assign an unknown category to avoid introducing bias to those features."
   ]
  },
  {
   "cell_type": "code",
   "execution_count": 5,
   "id": "1cc8d7c0-ad86-4113-b463-851e89906fd7",
   "metadata": {},
   "outputs": [],
   "source": [
    "# List of nominal attributes\n",
    "nominal_attributes = ['Job','Default', 'Contact']\n",
    "\n",
    "#Impute missing values with 'Unknown' for each nominal attribute in the list\n",
    "for attribute in nominal_attributes:\n",
    "    bankMarketing.loc[:, attribute] = bankMarketing[attribute].fillna('Unknown')\n"
   ]
  },
  {
   "attachments": {},
   "cell_type": "markdown",
   "id": "713752fa-2cac-4f8d-9439-38b6d728d8de",
   "metadata": {
    "jp-MarkdownHeadingCollapsed": true
   },
   "source": [
    "### Ordinal Attributes - Imputation"
   ]
  },
  {
   "cell_type": "raw",
   "id": "9a1c9805-85b6-4f33-a76b-48d9660ffc98",
   "metadata": {},
   "source": [
    "Education has 4% missing values. As it is ordinal, the preffered approach would be to use the mode/median to impute. The value 'secondary' is both the median and mode, hence either methods should result in same."
   ]
  },
  {
   "cell_type": "code",
   "execution_count": 6,
   "id": "2228678f-78d1-4e07-8f25-40c1a8521c40",
   "metadata": {},
   "outputs": [],
   "source": [
    "imputer = SimpleImputer(strategy='most_frequent')\n",
    "\n",
    "bankMarketing['Education'] = imputer.fit_transform(bankMarketing[['Education']]).ravel()"
   ]
  },
  {
   "attachments": {},
   "cell_type": "markdown",
   "id": "4f51b1f4-0dca-4675-879d-66e12d02045a",
   "metadata": {
    "jp-MarkdownHeadingCollapsed": true
   },
   "source": [
    "### Dropping Poutcome"
   ]
  },
  {
   "cell_type": "raw",
   "id": "12108daf-b8b1-4626-bdff-f14fcad244cd",
   "metadata": {},
   "source": [
    "Poutcome has 82% missing values. This is not good and can lead to huge biases if we impute. It is more beneficial to drop it."
   ]
  },
  {
   "cell_type": "code",
   "execution_count": 7,
   "id": "bc929149-1bbb-4a4d-b480-8512c6d14510",
   "metadata": {},
   "outputs": [],
   "source": [
    "bankMarketing.drop('Poutcome', axis=1, inplace=True)"
   ]
  },
  {
   "cell_type": "code",
   "execution_count": 8,
   "id": "f65b45ac-88ca-42ff-80ad-d809b4d78a13",
   "metadata": {},
   "outputs": [
    {
     "data": {
      "text/html": [
       "<div>\n",
       "<style scoped>\n",
       "    .dataframe tbody tr th:only-of-type {\n",
       "        vertical-align: middle;\n",
       "    }\n",
       "\n",
       "    .dataframe tbody tr th {\n",
       "        vertical-align: top;\n",
       "    }\n",
       "\n",
       "    .dataframe thead th {\n",
       "        text-align: right;\n",
       "    }\n",
       "</style>\n",
       "<table border=\"1\" class=\"dataframe\">\n",
       "  <thead>\n",
       "    <tr style=\"text-align: right;\">\n",
       "      <th></th>\n",
       "      <th>Age</th>\n",
       "      <th>Job</th>\n",
       "      <th>Marital</th>\n",
       "      <th>Education</th>\n",
       "      <th>Default</th>\n",
       "      <th>Balance</th>\n",
       "      <th>Housing</th>\n",
       "      <th>Loan</th>\n",
       "      <th>Contact</th>\n",
       "      <th>Pdays</th>\n",
       "      <th>Outcome</th>\n",
       "    </tr>\n",
       "  </thead>\n",
       "  <tbody>\n",
       "    <tr>\n",
       "      <th>0</th>\n",
       "      <td>58.0</td>\n",
       "      <td>management</td>\n",
       "      <td>married</td>\n",
       "      <td>tertiary</td>\n",
       "      <td>no</td>\n",
       "      <td>2143</td>\n",
       "      <td>yes</td>\n",
       "      <td>no</td>\n",
       "      <td>cellular</td>\n",
       "      <td>-1</td>\n",
       "      <td>no</td>\n",
       "    </tr>\n",
       "    <tr>\n",
       "      <th>1</th>\n",
       "      <td>44.0</td>\n",
       "      <td>technician</td>\n",
       "      <td>single</td>\n",
       "      <td>secondary</td>\n",
       "      <td>no</td>\n",
       "      <td>29</td>\n",
       "      <td>yes</td>\n",
       "      <td>no</td>\n",
       "      <td>cellular</td>\n",
       "      <td>-1</td>\n",
       "      <td>no</td>\n",
       "    </tr>\n",
       "    <tr>\n",
       "      <th>2</th>\n",
       "      <td>33.0</td>\n",
       "      <td>entrepreneur</td>\n",
       "      <td>married</td>\n",
       "      <td>secondary</td>\n",
       "      <td>no</td>\n",
       "      <td>2</td>\n",
       "      <td>yes</td>\n",
       "      <td>yes</td>\n",
       "      <td>cellular</td>\n",
       "      <td>-1</td>\n",
       "      <td>no</td>\n",
       "    </tr>\n",
       "    <tr>\n",
       "      <th>3</th>\n",
       "      <td>47.0</td>\n",
       "      <td>blue-collar</td>\n",
       "      <td>married</td>\n",
       "      <td>secondary</td>\n",
       "      <td>no</td>\n",
       "      <td>1506</td>\n",
       "      <td>yes</td>\n",
       "      <td>no</td>\n",
       "      <td>cellular</td>\n",
       "      <td>-1</td>\n",
       "      <td>no</td>\n",
       "    </tr>\n",
       "    <tr>\n",
       "      <th>4</th>\n",
       "      <td>39.0</td>\n",
       "      <td>Unknown</td>\n",
       "      <td>single</td>\n",
       "      <td>secondary</td>\n",
       "      <td>no</td>\n",
       "      <td>1</td>\n",
       "      <td>no</td>\n",
       "      <td>no</td>\n",
       "      <td>cellular</td>\n",
       "      <td>-1</td>\n",
       "      <td>no</td>\n",
       "    </tr>\n",
       "  </tbody>\n",
       "</table>\n",
       "</div>"
      ],
      "text/plain": [
       "    Age           Job  Marital  Education Default  Balance Housing Loan  \\\n",
       "0  58.0    management  married   tertiary      no     2143     yes   no   \n",
       "1  44.0    technician   single  secondary      no       29     yes   no   \n",
       "2  33.0  entrepreneur  married  secondary      no        2     yes  yes   \n",
       "3  47.0   blue-collar  married  secondary      no     1506     yes   no   \n",
       "4  39.0       Unknown   single  secondary      no        1      no   no   \n",
       "\n",
       "    Contact  Pdays Outcome  \n",
       "0  cellular     -1      no  \n",
       "1  cellular     -1      no  \n",
       "2  cellular     -1      no  \n",
       "3  cellular     -1      no  \n",
       "4  cellular     -1      no  "
      ]
     },
     "execution_count": 8,
     "metadata": {},
     "output_type": "execute_result"
    }
   ],
   "source": [
    "bankMarketing.head()"
   ]
  },
  {
   "cell_type": "markdown",
   "id": "e62547ec-a415-4a19-9749-7c9dd7a5193d",
   "metadata": {
    "jp-MarkdownHeadingCollapsed": true
   },
   "source": [
    "### Imputing Marital, Housing, Loan, and Outcome "
   ]
  },
  {
   "cell_type": "raw",
   "id": "e5f70bac-e773-41dd-84cf-3e23a1fa820b",
   "metadata": {},
   "source": [
    "Marital, Housing, Loan, and Outcome will not be imputed as they do not have missing values."
   ]
  },
  {
   "cell_type": "markdown",
   "id": "9beb306b-b5c2-41e1-9c63-dcb22a6b10d0",
   "metadata": {
    "jp-MarkdownHeadingCollapsed": true
   },
   "source": [
    "## Summary Report"
   ]
  },
  {
   "cell_type": "raw",
   "id": "f0aaa597-b4fc-4451-9dad-a460d103a622",
   "metadata": {},
   "source": [
    "Numerical Features Imputation:\n",
    "\n",
    "- Numerical feature Age was imputed using Median as it is skewed to the right. \n",
    "- Remaining Numerical features had no missing values\n",
    "\n",
    "Categorical Features Imputation:\n",
    "\n",
    "- Nominal features were imputed by Unknown Category (To avoid Bias, all of them had missing values less than 5%). \n",
    "- Ordinal features were imputed using Mode. (In this case mode=median).\n",
    "- Poutcome was dropped as it had 82% missing values.\n",
    "\n",
    "Detailed discussion of each feature will be found in its specific section.\n",
    "\n"
   ]
  },
  {
   "cell_type": "markdown",
   "id": "ddf7af87-e719-4ae2-9179-61b1ed85a1b9",
   "metadata": {
    "jp-MarkdownHeadingCollapsed": true
   },
   "source": [
    "# Correlation Calculation"
   ]
  },
  {
   "cell_type": "markdown",
   "id": "d565220b-c0ae-4999-bebe-26e944fa650e",
   "metadata": {},
   "source": [
    "## Numerical Pairs"
   ]
  },
  {
   "cell_type": "code",
   "execution_count": 34,
   "id": "60960c7e-af7f-4375-b54b-ee98c1d34a85",
   "metadata": {},
   "outputs": [],
   "source": [
    "# Selecting the numerical features\n",
    "numerical_features = ['Age', 'Balance', 'Pdays']"
   ]
  },
  {
   "cell_type": "code",
   "execution_count": 35,
   "id": "6380b25a-b442-44f7-acaa-df1a1c1b7d99",
   "metadata": {},
   "outputs": [],
   "source": [
    "# Calculate the Pearson correlation for numerical features\n",
    "numerical_correlation = bankMarketing[numerical_features].corr(method='pearson')"
   ]
  },
  {
   "cell_type": "code",
   "execution_count": 36,
   "id": "2fa8744b-6828-4cf4-83aa-3387aa08e4aa",
   "metadata": {},
   "outputs": [
    {
     "name": "stdout",
     "output_type": "stream",
     "text": [
      "Pearson Correlation Matrix (Numerical Features):\n",
      "              Age   Balance     Pdays\n",
      "Age      1.000000  0.096435 -0.023974\n",
      "Balance  0.096435  1.000000  0.003435\n",
      "Pdays   -0.023974  0.003435  1.000000\n"
     ]
    }
   ],
   "source": [
    "# Display the correlation matrix\n",
    "print(\"Pearson Correlation Matrix (Numerical Features):\")\n",
    "print(numerical_correlation)"
   ]
  },
  {
   "cell_type": "raw",
   "id": "2908997e-0b01-4ea4-9b5e-ff53033deca1",
   "metadata": {},
   "source": [
    "None of the numerical feature pairs show a strong correlation"
   ]
  },
  {
   "cell_type": "markdown",
   "id": "3ecdc966-dd24-466b-9ec0-ee8307ee2582",
   "metadata": {
    "jp-MarkdownHeadingCollapsed": true
   },
   "source": [
    "## Categorical Pairs"
   ]
  },
  {
   "cell_type": "code",
   "execution_count": 37,
   "id": "16e9f66c-c0cd-458c-922b-ed9e95d907b3",
   "metadata": {},
   "outputs": [],
   "source": [
    "# List of categorical features\n",
    "categorical_features = ['Job', 'Marital', 'Education', 'Default', 'Housing', 'Loan', 'Contact','Outcome']"
   ]
  },
  {
   "cell_type": "code",
   "execution_count": 38,
   "id": "92ae9ea6-b9b0-42c7-82c5-b925df582df3",
   "metadata": {},
   "outputs": [],
   "source": [
    "# Create an empty DataFrame to store Chi-Square results\n",
    "chi_square_results = pd.DataFrame(index=categorical_features, columns=categorical_features)\n",
    "p_value_results = pd.DataFrame(index=categorical_features, columns=categorical_features)\n",
    "dof_results = pd.DataFrame(index=categorical_features, columns=categorical_features)"
   ]
  },
  {
   "cell_type": "code",
   "execution_count": 39,
   "id": "e8257544-2a1a-459b-b016-f6d6aa2ade63",
   "metadata": {},
   "outputs": [],
   "source": [
    "# Calculating Chi-Square, p-value, and degrees of freedom for each pair of categorical features\n",
    "for cat1 in categorical_features:\n",
    "    for cat2 in categorical_features:\n",
    "        if cat1 != cat2:\n",
    "            # Creating contingency table\n",
    "            contingency_table = pd.crosstab(bankMarketing[cat1], bankMarketing[cat2])\n",
    "            \n",
    "            # Performing Chi-Square test\n",
    "            chi2, p, dof, _ = chi2_contingency(contingency_table)\n",
    "            \n",
    "            # Storing the results in the DataFrames\n",
    "            chi_square_results.loc[cat1, cat2] = chi2\n",
    "            p_value_results.loc[cat1, cat2] = p\n",
    "            dof_results.loc[cat1, cat2] = dof"
   ]
  },
  {
   "cell_type": "code",
   "execution_count": 40,
   "id": "6ed6c718-30c5-40fd-9d64-be3aa35402fe",
   "metadata": {},
   "outputs": [
    {
     "name": "stdout",
     "output_type": "stream",
     "text": [
      "Chi-Square Correlation Matrix (Categorical Features):\n",
      "                    Job      Marital     Education     Default      Housing  \\\n",
      "Job                 NaN  3814.537255  26551.681776   66.897708  3486.914424   \n",
      "Marital     3814.537255          NaN   1321.005219   16.982251     19.34482   \n",
      "Education  26551.681776  1321.005219           NaN   12.666221   457.802019   \n",
      "Default       66.897708    16.982251     12.666221         NaN      6.23208   \n",
      "Housing     3486.914424     19.34482    457.802019     6.23208          NaN   \n",
      "Loan         504.278785   121.952535    125.776891  269.807468    76.974808   \n",
      "Contact      818.326494   114.102893    320.075249   17.675229   407.878235   \n",
      "Outcome      832.984453   196.495946    223.834823   23.920732   874.822449   \n",
      "\n",
      "                 Loan     Contact     Outcome  \n",
      "Job        504.278785  818.326494  832.984453  \n",
      "Marital    121.952535  114.102893  196.495946  \n",
      "Education  125.776891  320.075249  223.834823  \n",
      "Default    269.807468   17.675229   23.920732  \n",
      "Housing     76.974808  407.878235  874.822449  \n",
      "Loan              NaN    9.476113   209.61698  \n",
      "Contact      9.476113         NaN   77.729551  \n",
      "Outcome     209.61698   77.729551         NaN  \n",
      "\n",
      "P-Value Matrix (Categorical Features):\n",
      "                Job   Marital Education   Default   Housing      Loan  \\\n",
      "Job             NaN       0.0       0.0  0.000001       0.0       0.0   \n",
      "Marital         0.0       NaN       0.0  0.001948  0.000063       0.0   \n",
      "Education       0.0       0.0       NaN  0.013027       0.0       0.0   \n",
      "Default    0.000001  0.001948  0.013027       NaN  0.044332       0.0   \n",
      "Housing         0.0  0.000063       0.0  0.044332       NaN       0.0   \n",
      "Loan            0.0       0.0       0.0       0.0       0.0       NaN   \n",
      "Contact         0.0       0.0       0.0  0.001428       0.0  0.008756   \n",
      "Outcome         0.0       0.0       0.0  0.000006       0.0       0.0   \n",
      "\n",
      "            Contact   Outcome  \n",
      "Job             0.0       0.0  \n",
      "Marital         0.0       0.0  \n",
      "Education       0.0       0.0  \n",
      "Default    0.001428  0.000006  \n",
      "Housing         0.0       0.0  \n",
      "Loan       0.008756       0.0  \n",
      "Contact         NaN       0.0  \n",
      "Outcome         0.0       NaN  \n",
      "\n",
      "Degrees of Freedom Matrix (Categorical Features):\n",
      "           Job Marital Education Default Housing Loan Contact Outcome\n",
      "Job        NaN      20        20      20      10   10      20      10\n",
      "Marital     20     NaN         4       4       2    2       4       2\n",
      "Education   20       4       NaN       4       2    2       4       2\n",
      "Default     20       4         4     NaN       2    2       4       2\n",
      "Housing     10       2         2       2     NaN    1       2       1\n",
      "Loan        10       2         2       2       1  NaN       2       1\n",
      "Contact     20       4         4       4       2    2     NaN       2\n",
      "Outcome     10       2         2       2       1    1       2     NaN\n"
     ]
    }
   ],
   "source": [
    "# Display the Chi-Square values\n",
    "print(\"Chi-Square Correlation Matrix (Categorical Features):\")\n",
    "print(chi_square_results)\n",
    "\n",
    "# Display the p-values\n",
    "print(\"\\nP-Value Matrix (Categorical Features):\")\n",
    "print(p_value_results)\n",
    "\n",
    "# Display the degrees of freedom\n",
    "print(\"\\nDegrees of Freedom Matrix (Categorical Features):\")\n",
    "print(dof_results)"
   ]
  },
  {
   "cell_type": "raw",
   "id": "fad339e7-4202-4905-baf2-d6f10a992646",
   "metadata": {},
   "source": [
    "Highly correlated features:\n",
    "\n",
    "Job & Education Chi- Square Value: 26,551.68\n",
    "\n",
    "Job & Marital Chi-Square Value: 3,814.54\n",
    "\n",
    "Job & Housing Chi-Square Value: 3,486.91\n",
    "\n",
    "The best solution is to drop Job, as it has high correlation with the other features."
   ]
  },
  {
   "cell_type": "code",
   "execution_count": 9,
   "id": "199cb560-bfba-42b8-8571-e137f6b72fdd",
   "metadata": {},
   "outputs": [],
   "source": [
    "bankMarketing.drop('Job', axis=1, inplace=True)"
   ]
  },
  {
   "cell_type": "markdown",
   "id": "32265fb2-6367-4422-ae97-1f83dc9a0fcb",
   "metadata": {},
   "source": [
    "# Data Preparation for Modeling"
   ]
  },
  {
   "cell_type": "markdown",
   "id": "34142577-12e8-46c0-97f9-1883d361ba95",
   "metadata": {
    "jp-MarkdownHeadingCollapsed": true
   },
   "source": [
    "## Encode Categorical Features"
   ]
  },
  {
   "cell_type": "markdown",
   "id": "1bd45597-eff9-4049-8aff-9bc057951b03",
   "metadata": {
    "jp-MarkdownHeadingCollapsed": true
   },
   "source": [
    "### Ordinal & One Hot Encoding"
   ]
  },
  {
   "cell_type": "raw",
   "id": "d799dae7-d753-465c-a4a3-eccfe78e47c3",
   "metadata": {},
   "source": [
    "Outcome is the target feature, hence I will not encode it."
   ]
  },
  {
   "cell_type": "code",
   "execution_count": 10,
   "id": "e206936d-12b3-490a-b045-41151e5f385a",
   "metadata": {},
   "outputs": [],
   "source": [
    "numerical_features = ['Age', 'Balance', 'Pdays'] \n",
    "ordinal_features = ['Education'] \n",
    "nominal_features = ['Marital', 'Default', 'Housing', 'Loan', 'Contact'] \n",
    "target_variable = ['Outcome']  # Target variable"
   ]
  },
  {
   "cell_type": "code",
   "execution_count": 11,
   "id": "8e5e0552-5854-47d2-a590-02f0ee580247",
   "metadata": {},
   "outputs": [],
   "source": [
    "# Separating the features\n",
    "numerical_data = bankMarketing[numerical_features]\n",
    "ordinal_data = bankMarketing[ordinal_features]\n",
    "nominal_data = bankMarketing[nominal_features]\n",
    "target_data = bankMarketing[target_variable]"
   ]
  },
  {
   "cell_type": "code",
   "execution_count": 12,
   "id": "a754e0e8-cfa7-4bcb-a3bc-0d02912395a0",
   "metadata": {},
   "outputs": [],
   "source": [
    "# Ordinal encoding to ordinal features\n",
    "# Order of categories for the 'Education' feature\n",
    "education_order = ['primary', 'secondary', 'tertiary']\n",
    "\n",
    "ordinal_encoder = OrdinalEncoder(categories=[education_order])\n",
    "\n",
    "# Applying ordinal encoding to the 'Education' feature\n",
    "ordinal_data = ordinal_encoder.fit_transform(ordinal_data)\n",
    "# Convert back to DataFrame and assign column names\n",
    "ordinal_data = pd.DataFrame(ordinal_data, columns=ordinal_features)"
   ]
  },
  {
   "cell_type": "code",
   "execution_count": 13,
   "id": "5bf6e2e7-e47f-47ff-a5f4-66b7d43a4003",
   "metadata": {},
   "outputs": [],
   "source": [
    "# Applying one-hot encoding to the nominal features\n",
    "encoded_nominal_data = pd.get_dummies(nominal_data, drop_first=True)\n",
    "\n",
    "# Concatenate numerical data, encoded ordinal data, encoded nominal data, and target variable back together\n",
    "bankMarketing_encoded = pd.concat([numerical_data, ordinal_data, encoded_nominal_data, target_data], axis=1)"
   ]
  },
  {
   "cell_type": "markdown",
   "id": "183eeaf2-0c14-4847-b5af-15044792ec30",
   "metadata": {
    "jp-MarkdownHeadingCollapsed": true
   },
   "source": [
    "### Dataset After Encoding"
   ]
  },
  {
   "cell_type": "code",
   "execution_count": 14,
   "id": "b81cac39-147a-4158-8b35-7c4c6ae87a5d",
   "metadata": {},
   "outputs": [
    {
     "name": "stdout",
     "output_type": "stream",
     "text": [
      "    Age  Balance  Pdays  Education  Marital_married  Marital_single  \\\n",
      "0  58.0     2143     -1        3.0             True           False   \n",
      "1  44.0       29     -1        2.0            False            True   \n",
      "2  33.0        2     -1        2.0             True           False   \n",
      "3  47.0     1506     -1        2.0             True           False   \n",
      "4  39.0        1     -1        2.0            False            True   \n",
      "\n",
      "   Default_no  Default_yes  Housing_yes  Loan_yes  Contact_cellular  \\\n",
      "0        True        False         True     False              True   \n",
      "1        True        False         True     False              True   \n",
      "2        True        False         True      True              True   \n",
      "3        True        False         True     False              True   \n",
      "4        True        False        False     False              True   \n",
      "\n",
      "   Contact_telephone Outcome  \n",
      "0              False      no  \n",
      "1              False      no  \n",
      "2              False      no  \n",
      "3              False      no  \n",
      "4              False      no  \n"
     ]
    }
   ],
   "source": [
    "# Verify the encoding\n",
    "print(bankMarketing_encoded.head())"
   ]
  },
  {
   "cell_type": "markdown",
   "id": "6f4339cd-a767-46d9-948a-827eb569e62f",
   "metadata": {
    "jp-MarkdownHeadingCollapsed": true
   },
   "source": [
    "## Scale Numerical Features"
   ]
  },
  {
   "cell_type": "code",
   "execution_count": 15,
   "id": "d1aa0078-5ebe-4d12-a54e-2f3228c61288",
   "metadata": {},
   "outputs": [],
   "source": [
    "numerical_features = ['Age', 'Balance', 'Pdays']"
   ]
  },
  {
   "cell_type": "code",
   "execution_count": 16,
   "id": "10c69071-6204-4024-a7b7-35600519453f",
   "metadata": {},
   "outputs": [],
   "source": [
    "scaler = StandardScaler()\n",
    "bankMarketing_encoded[numerical_features] = scaler.fit_transform(bankMarketing_encoded[numerical_features])"
   ]
  },
  {
   "cell_type": "code",
   "execution_count": 17,
   "id": "0d1230e4-6141-4dad-a9a2-43c4eda6ff20",
   "metadata": {},
   "outputs": [
    {
     "data": {
      "text/html": [
       "<div>\n",
       "<style scoped>\n",
       "    .dataframe tbody tr th:only-of-type {\n",
       "        vertical-align: middle;\n",
       "    }\n",
       "\n",
       "    .dataframe tbody tr th {\n",
       "        vertical-align: top;\n",
       "    }\n",
       "\n",
       "    .dataframe thead th {\n",
       "        text-align: right;\n",
       "    }\n",
       "</style>\n",
       "<table border=\"1\" class=\"dataframe\">\n",
       "  <thead>\n",
       "    <tr style=\"text-align: right;\">\n",
       "      <th></th>\n",
       "      <th>Age</th>\n",
       "      <th>Balance</th>\n",
       "      <th>Pdays</th>\n",
       "      <th>Education</th>\n",
       "      <th>Marital_married</th>\n",
       "      <th>Marital_single</th>\n",
       "      <th>Default_no</th>\n",
       "      <th>Default_yes</th>\n",
       "      <th>Housing_yes</th>\n",
       "      <th>Loan_yes</th>\n",
       "      <th>Contact_cellular</th>\n",
       "      <th>Contact_telephone</th>\n",
       "      <th>Outcome</th>\n",
       "    </tr>\n",
       "  </thead>\n",
       "  <tbody>\n",
       "    <tr>\n",
       "      <th>0</th>\n",
       "      <td>1.656928</td>\n",
       "      <td>0.256419</td>\n",
       "      <td>-0.411453</td>\n",
       "      <td>3.0</td>\n",
       "      <td>True</td>\n",
       "      <td>False</td>\n",
       "      <td>True</td>\n",
       "      <td>False</td>\n",
       "      <td>True</td>\n",
       "      <td>False</td>\n",
       "      <td>True</td>\n",
       "      <td>False</td>\n",
       "      <td>no</td>\n",
       "    </tr>\n",
       "    <tr>\n",
       "      <th>1</th>\n",
       "      <td>0.306049</td>\n",
       "      <td>-0.437895</td>\n",
       "      <td>-0.411453</td>\n",
       "      <td>2.0</td>\n",
       "      <td>False</td>\n",
       "      <td>True</td>\n",
       "      <td>True</td>\n",
       "      <td>False</td>\n",
       "      <td>True</td>\n",
       "      <td>False</td>\n",
       "      <td>True</td>\n",
       "      <td>False</td>\n",
       "      <td>no</td>\n",
       "    </tr>\n",
       "    <tr>\n",
       "      <th>2</th>\n",
       "      <td>-0.755356</td>\n",
       "      <td>-0.446762</td>\n",
       "      <td>-0.411453</td>\n",
       "      <td>2.0</td>\n",
       "      <td>True</td>\n",
       "      <td>False</td>\n",
       "      <td>True</td>\n",
       "      <td>False</td>\n",
       "      <td>True</td>\n",
       "      <td>True</td>\n",
       "      <td>True</td>\n",
       "      <td>False</td>\n",
       "      <td>no</td>\n",
       "    </tr>\n",
       "    <tr>\n",
       "      <th>3</th>\n",
       "      <td>0.595523</td>\n",
       "      <td>0.047205</td>\n",
       "      <td>-0.411453</td>\n",
       "      <td>2.0</td>\n",
       "      <td>True</td>\n",
       "      <td>False</td>\n",
       "      <td>True</td>\n",
       "      <td>False</td>\n",
       "      <td>True</td>\n",
       "      <td>False</td>\n",
       "      <td>True</td>\n",
       "      <td>False</td>\n",
       "      <td>no</td>\n",
       "    </tr>\n",
       "    <tr>\n",
       "      <th>4</th>\n",
       "      <td>-0.176408</td>\n",
       "      <td>-0.447091</td>\n",
       "      <td>-0.411453</td>\n",
       "      <td>2.0</td>\n",
       "      <td>False</td>\n",
       "      <td>True</td>\n",
       "      <td>True</td>\n",
       "      <td>False</td>\n",
       "      <td>False</td>\n",
       "      <td>False</td>\n",
       "      <td>True</td>\n",
       "      <td>False</td>\n",
       "      <td>no</td>\n",
       "    </tr>\n",
       "  </tbody>\n",
       "</table>\n",
       "</div>"
      ],
      "text/plain": [
       "        Age   Balance     Pdays  Education  Marital_married  Marital_single  \\\n",
       "0  1.656928  0.256419 -0.411453        3.0             True           False   \n",
       "1  0.306049 -0.437895 -0.411453        2.0            False            True   \n",
       "2 -0.755356 -0.446762 -0.411453        2.0             True           False   \n",
       "3  0.595523  0.047205 -0.411453        2.0             True           False   \n",
       "4 -0.176408 -0.447091 -0.411453        2.0            False            True   \n",
       "\n",
       "   Default_no  Default_yes  Housing_yes  Loan_yes  Contact_cellular  \\\n",
       "0        True        False         True     False              True   \n",
       "1        True        False         True     False              True   \n",
       "2        True        False         True      True              True   \n",
       "3        True        False         True     False              True   \n",
       "4        True        False        False     False              True   \n",
       "\n",
       "   Contact_telephone Outcome  \n",
       "0              False      no  \n",
       "1              False      no  \n",
       "2              False      no  \n",
       "3              False      no  \n",
       "4              False      no  "
      ]
     },
     "execution_count": 17,
     "metadata": {},
     "output_type": "execute_result"
    }
   ],
   "source": [
    "bankMarketing_encoded.head()"
   ]
  },
  {
   "cell_type": "markdown",
   "id": "9ed1c74f-5e6c-4847-8b7a-275fbbb49f27",
   "metadata": {},
   "source": [
    "# Final Dataset and Dimension"
   ]
  },
  {
   "cell_type": "code",
   "execution_count": 20,
   "id": "ea899a47-21e9-4aad-8aca-9003c7ffb1ce",
   "metadata": {},
   "outputs": [
    {
     "name": "stdout",
     "output_type": "stream",
     "text": [
      "Final Dataset:\n"
     ]
    },
    {
     "data": {
      "text/html": [
       "<div>\n",
       "<style scoped>\n",
       "    .dataframe tbody tr th:only-of-type {\n",
       "        vertical-align: middle;\n",
       "    }\n",
       "\n",
       "    .dataframe tbody tr th {\n",
       "        vertical-align: top;\n",
       "    }\n",
       "\n",
       "    .dataframe thead th {\n",
       "        text-align: right;\n",
       "    }\n",
       "</style>\n",
       "<table border=\"1\" class=\"dataframe\">\n",
       "  <thead>\n",
       "    <tr style=\"text-align: right;\">\n",
       "      <th></th>\n",
       "      <th>Age</th>\n",
       "      <th>Balance</th>\n",
       "      <th>Pdays</th>\n",
       "      <th>Education</th>\n",
       "      <th>Marital_married</th>\n",
       "      <th>Marital_single</th>\n",
       "      <th>Default_no</th>\n",
       "      <th>Default_yes</th>\n",
       "      <th>Housing_yes</th>\n",
       "      <th>Loan_yes</th>\n",
       "      <th>Contact_cellular</th>\n",
       "      <th>Contact_telephone</th>\n",
       "      <th>Outcome</th>\n",
       "    </tr>\n",
       "  </thead>\n",
       "  <tbody>\n",
       "    <tr>\n",
       "      <th>0</th>\n",
       "      <td>1.656928</td>\n",
       "      <td>0.256419</td>\n",
       "      <td>-0.411453</td>\n",
       "      <td>3.0</td>\n",
       "      <td>True</td>\n",
       "      <td>False</td>\n",
       "      <td>True</td>\n",
       "      <td>False</td>\n",
       "      <td>True</td>\n",
       "      <td>False</td>\n",
       "      <td>True</td>\n",
       "      <td>False</td>\n",
       "      <td>no</td>\n",
       "    </tr>\n",
       "    <tr>\n",
       "      <th>1</th>\n",
       "      <td>0.306049</td>\n",
       "      <td>-0.437895</td>\n",
       "      <td>-0.411453</td>\n",
       "      <td>2.0</td>\n",
       "      <td>False</td>\n",
       "      <td>True</td>\n",
       "      <td>True</td>\n",
       "      <td>False</td>\n",
       "      <td>True</td>\n",
       "      <td>False</td>\n",
       "      <td>True</td>\n",
       "      <td>False</td>\n",
       "      <td>no</td>\n",
       "    </tr>\n",
       "    <tr>\n",
       "      <th>2</th>\n",
       "      <td>-0.755356</td>\n",
       "      <td>-0.446762</td>\n",
       "      <td>-0.411453</td>\n",
       "      <td>2.0</td>\n",
       "      <td>True</td>\n",
       "      <td>False</td>\n",
       "      <td>True</td>\n",
       "      <td>False</td>\n",
       "      <td>True</td>\n",
       "      <td>True</td>\n",
       "      <td>True</td>\n",
       "      <td>False</td>\n",
       "      <td>no</td>\n",
       "    </tr>\n",
       "    <tr>\n",
       "      <th>3</th>\n",
       "      <td>0.595523</td>\n",
       "      <td>0.047205</td>\n",
       "      <td>-0.411453</td>\n",
       "      <td>2.0</td>\n",
       "      <td>True</td>\n",
       "      <td>False</td>\n",
       "      <td>True</td>\n",
       "      <td>False</td>\n",
       "      <td>True</td>\n",
       "      <td>False</td>\n",
       "      <td>True</td>\n",
       "      <td>False</td>\n",
       "      <td>no</td>\n",
       "    </tr>\n",
       "    <tr>\n",
       "      <th>4</th>\n",
       "      <td>-0.176408</td>\n",
       "      <td>-0.447091</td>\n",
       "      <td>-0.411453</td>\n",
       "      <td>2.0</td>\n",
       "      <td>False</td>\n",
       "      <td>True</td>\n",
       "      <td>True</td>\n",
       "      <td>False</td>\n",
       "      <td>False</td>\n",
       "      <td>False</td>\n",
       "      <td>True</td>\n",
       "      <td>False</td>\n",
       "      <td>no</td>\n",
       "    </tr>\n",
       "  </tbody>\n",
       "</table>\n",
       "</div>"
      ],
      "text/plain": [
       "        Age   Balance     Pdays  Education  Marital_married  Marital_single  \\\n",
       "0  1.656928  0.256419 -0.411453        3.0             True           False   \n",
       "1  0.306049 -0.437895 -0.411453        2.0            False            True   \n",
       "2 -0.755356 -0.446762 -0.411453        2.0             True           False   \n",
       "3  0.595523  0.047205 -0.411453        2.0             True           False   \n",
       "4 -0.176408 -0.447091 -0.411453        2.0            False            True   \n",
       "\n",
       "   Default_no  Default_yes  Housing_yes  Loan_yes  Contact_cellular  \\\n",
       "0        True        False         True     False              True   \n",
       "1        True        False         True     False              True   \n",
       "2        True        False         True      True              True   \n",
       "3        True        False         True     False              True   \n",
       "4        True        False        False     False              True   \n",
       "\n",
       "   Contact_telephone Outcome  \n",
       "0              False      no  \n",
       "1              False      no  \n",
       "2              False      no  \n",
       "3              False      no  \n",
       "4              False      no  "
      ]
     },
     "execution_count": 20,
     "metadata": {},
     "output_type": "execute_result"
    }
   ],
   "source": [
    "# Print the final dataset\n",
    "print(\"Final Dataset:\")\n",
    "bankMarketing_encoded.head()"
   ]
  },
  {
   "cell_type": "code",
   "execution_count": 21,
   "id": "81e8facc-57a6-4cd0-a2f7-76729ca247f1",
   "metadata": {},
   "outputs": [
    {
     "name": "stdout",
     "output_type": "stream",
     "text": [
      "\n",
      "Dimensions of the final dataset (rows, columns):\n",
      "(45211, 13)\n"
     ]
    }
   ],
   "source": [
    "# Print the dimensions of the final dataset\n",
    "print(\"\\nDimensions of the final dataset (rows, columns):\")\n",
    "print(bankMarketing_encoded.shape)"
   ]
  }
 ],
 "metadata": {
  "kernelspec": {
   "display_name": "Python 3 (ipykernel)",
   "language": "python",
   "name": "python3"
  },
  "language_info": {
   "codemirror_mode": {
    "name": "ipython",
    "version": 3
   },
   "file_extension": ".py",
   "mimetype": "text/x-python",
   "name": "python",
   "nbconvert_exporter": "python",
   "pygments_lexer": "ipython3",
   "version": "3.12.6"
  }
 },
 "nbformat": 4,
 "nbformat_minor": 5
}
